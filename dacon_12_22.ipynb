{
  "cells": [
    {
      "cell_type": "code",
      "execution_count": 1,
      "metadata": {
        "colab": {
          "base_uri": "https://localhost:8080/"
        },
        "id": "-cp0WUWZLv5Q",
        "outputId": "8a954e84-517f-41d7-affd-4b4c7a0634f1"
      },
      "outputs": [
        {
          "output_type": "stream",
          "name": "stdout",
          "text": [
            "Mounted at /content/drive\n"
          ]
        }
      ],
      "source": [
        "from google.colab import drive\n",
        "drive.mount('/content/drive')"
      ]
    },
    {
      "cell_type": "code",
      "execution_count": 2,
      "metadata": {
        "colab": {
          "base_uri": "https://localhost:8080/"
        },
        "id": "qVoGETVF9Xca",
        "outputId": "6314b9d4-c85e-47ab-b375-b0cc50ed8112"
      },
      "outputs": [
        {
          "output_type": "stream",
          "name": "stdout",
          "text": [
            "Reading package lists... Done\n",
            "Building dependency tree... Done\n",
            "Reading state information... Done\n",
            "The following NEW packages will be installed:\n",
            "  fonts-nanum\n",
            "0 upgraded, 1 newly installed, 0 to remove and 24 not upgraded.\n",
            "Need to get 10.3 MB of archives.\n",
            "After this operation, 34.1 MB of additional disk space will be used.\n",
            "Get:1 http://archive.ubuntu.com/ubuntu jammy/universe amd64 fonts-nanum all 20200506-1 [10.3 MB]\n",
            "Fetched 10.3 MB in 2s (6,568 kB/s)\n",
            "debconf: unable to initialize frontend: Dialog\n",
            "debconf: (No usable dialog-like program is installed, so the dialog based frontend cannot be used. at /usr/share/perl5/Debconf/FrontEnd/Dialog.pm line 78, <> line 1.)\n",
            "debconf: falling back to frontend: Readline\n",
            "debconf: unable to initialize frontend: Readline\n",
            "debconf: (This frontend requires a controlling tty.)\n",
            "debconf: falling back to frontend: Teletype\n",
            "dpkg-preconfigure: unable to re-open stdin: \n",
            "Selecting previously unselected package fonts-nanum.\n",
            "(Reading database ... 121658 files and directories currently installed.)\n",
            "Preparing to unpack .../fonts-nanum_20200506-1_all.deb ...\n",
            "Unpacking fonts-nanum (20200506-1) ...\n",
            "Setting up fonts-nanum (20200506-1) ...\n",
            "Processing triggers for fontconfig (2.13.1-4.2ubuntu5) ...\n",
            "/usr/share/fonts: caching, new cache contents: 0 fonts, 1 dirs\n",
            "/usr/share/fonts/truetype: caching, new cache contents: 0 fonts, 3 dirs\n",
            "/usr/share/fonts/truetype/humor-sans: caching, new cache contents: 1 fonts, 0 dirs\n",
            "/usr/share/fonts/truetype/liberation: caching, new cache contents: 16 fonts, 0 dirs\n",
            "/usr/share/fonts/truetype/nanum: caching, new cache contents: 12 fonts, 0 dirs\n",
            "/usr/local/share/fonts: caching, new cache contents: 0 fonts, 0 dirs\n",
            "/root/.local/share/fonts: skipping, no such directory\n",
            "/root/.fonts: skipping, no such directory\n",
            "/usr/share/fonts/truetype: skipping, looped directory detected\n",
            "/usr/share/fonts/truetype/humor-sans: skipping, looped directory detected\n",
            "/usr/share/fonts/truetype/liberation: skipping, looped directory detected\n",
            "/usr/share/fonts/truetype/nanum: skipping, looped directory detected\n",
            "/var/cache/fontconfig: cleaning cache directory\n",
            "/root/.cache/fontconfig: not cleaning non-existent cache directory\n",
            "/root/.fontconfig: not cleaning non-existent cache directory\n",
            "fc-cache: succeeded\n"
          ]
        }
      ],
      "source": [
        "!sudo apt-get install -y fonts-nanum\n",
        "!sudo fc-cache -fv\n",
        "!rm ~/.cache/matplotlib -rf"
      ]
    },
    {
      "cell_type": "code",
      "execution_count": 1,
      "metadata": {
        "id": "2DMNJgBFL0kt"
      },
      "outputs": [],
      "source": [
        "import pandas as pd\n",
        "import warnings\n",
        "import seaborn as sns\n",
        "import matplotlib.pyplot as plt\n",
        "import numpy as np\n",
        "plt.style.use('bmh')\n",
        "plt.rc('font', family='NanumBarunGothic')\n",
        "warnings.filterwarnings('ignore')\n",
        "plt.rcParams['axes.unicode_minus'] = False\n",
        "path='/content/drive/MyDrive/lstm_dacon/'\n",
        "df= pd.read_csv(path+\"train.csv\")\n",
        "answer = pd.read_csv(path+\"sample_submission.csv\")"
      ]
    },
    {
      "cell_type": "code",
      "execution_count": 2,
      "metadata": {
        "colab": {
          "base_uri": "https://localhost:8080/"
        },
        "id": "GYQAcH8XLsYi",
        "outputId": "74598760-3460-44d6-c07d-d932abcca44c"
      },
      "outputs": [
        {
          "output_type": "execute_result",
          "data": {
            "text/plain": [
              "일시          0\n",
              "최고기온        3\n",
              "최저기온        3\n",
              "일교차         4\n",
              "강수량     13861\n",
              "평균습도        0\n",
              "평균풍속        4\n",
              "일조합       118\n",
              "일사합      4862\n",
              "일조율       366\n",
              "평균기온        0\n",
              "dtype: int64"
            ]
          },
          "metadata": {},
          "execution_count": 2
        }
      ],
      "source": [
        "\"\"\"\n",
        "일조합과 일사합은 태양의 빛과 관련된 용어로, 기상학에서 중요한 요소입니다.\n",
        "\n",
        "일조합(日照合): 일조합은 특정 장소에서 실제로 태양 빛이 도달하는 시간의 총합을 말해요.\n",
        "기상 관측에서는 보통 하루 동안 태양 빛이 땅에 닿는 시간을 측정하며, 이를 일조시간이라고 합니다.\n",
        "그리고 일정 기간 동안의 일조시간을 모두 더한 것이 일조합이죠.\n",
        "일사합(日射合): 일사합은 일정 기간 동안 태양으로부터 받은 총 일사 에너지의 양을 말합니다.\n",
        "일사량은 태양 복사 에너지가 지표면에 닿는 양을 말하고,\n",
        "이를 측정하는 것은 태양의 에너지가 실제로 얼마나 지구에 도달했는지를 알려주는 중요한 지표가 됩니다.\n",
        "일조율 : 흐림정도\n",
        "\"\"\"\n",
        "\n",
        "df.isna().sum()"
      ]
    },
    {
      "cell_type": "code",
      "execution_count": 3,
      "metadata": {
        "id": "8mkF_HUkLsYj"
      },
      "outputs": [],
      "source": [
        "null_cols = ['최고기온', '최저기온','평균풍속']\n",
        "for col in null_cols:\n",
        "  df[col].interpolate(method='linear', inplace=True)"
      ]
    },
    {
      "cell_type": "code",
      "execution_count": 4,
      "metadata": {
        "id": "c7qgRqT3LsYj"
      },
      "outputs": [],
      "source": [
        "df['일교차']=df['최고기온']-df['최저기온']\n",
        "df['강수량']=df['강수량'].fillna(0)"
      ]
    },
    {
      "cell_type": "code",
      "execution_count": 5,
      "metadata": {
        "id": "SfvfVA8YLsYj"
      },
      "outputs": [],
      "source": [
        "for i in df[df[['일조율']].isnull().any(axis=1)].index:\n",
        "    df.loc[i,'일조율']=df[df['일조합']==df.loc[i]['일조합']]['일조율'].median()\n",
        "for i in df[df[['일조합']].isnull().any(axis=1)].index:\n",
        "    df.loc[i,'일조합']=df[df['일조율']==df.loc[i]['일조율']]['일조합'].median()\n",
        "for i in df[df[['일사합']].isnull().any(axis=1)].index:\n",
        "    df.loc[i,'일사합']=df[df['일조합']==df.loc[i]['일조합']]['일사합'].median()"
      ]
    },
    {
      "cell_type": "code",
      "execution_count": 6,
      "metadata": {
        "colab": {
          "base_uri": "https://localhost:8080/"
        },
        "id": "pbw9oteCLsYk",
        "outputId": "29357bcb-c364-4732-b0b0-5ea7f90eb8ac"
      },
      "outputs": [
        {
          "output_type": "execute_result",
          "data": {
            "text/plain": [
              "일시      0\n",
              "최고기온    0\n",
              "최저기온    0\n",
              "일교차     0\n",
              "강수량     0\n",
              "평균습도    0\n",
              "평균풍속    0\n",
              "일조합     0\n",
              "일사합     0\n",
              "일조율     0\n",
              "평균기온    0\n",
              "dtype: int64"
            ]
          },
          "metadata": {},
          "execution_count": 6
        }
      ],
      "source": [
        "df.isna().sum()"
      ]
    },
    {
      "cell_type": "code",
      "execution_count": 7,
      "metadata": {
        "id": "EzVmY8zELsYk",
        "colab": {
          "base_uri": "https://localhost:8080/",
          "height": 894
        },
        "outputId": "1ec7a695-a950-4b0b-8ced-9aae7a9e292e"
      },
      "outputs": [
        {
          "output_type": "stream",
          "name": "stdout",
          "text": [
            "          최고기온      최저기온       일교차       강수량      평균습도      평균풍속       일조합  \\\n",
            "최고기온  1.000000  0.962798  0.182015  0.127748  0.306833 -0.227326  0.065583   \n",
            "최저기온  0.962798  1.000000 -0.090465  0.213358  0.442913 -0.185559 -0.117416   \n",
            "일교차   0.182015 -0.090465  1.000000 -0.305563 -0.480861 -0.162586  0.668961   \n",
            "강수량   0.127748  0.213358 -0.305563  1.000000  0.380712  0.051768 -0.333036   \n",
            "평균습도  0.306833  0.442913 -0.480861  0.380712  1.000000 -0.111971 -0.595641   \n",
            "평균풍속 -0.227326 -0.185559 -0.162586  0.051768 -0.111971  1.000000  0.052960   \n",
            "일조합   0.065583 -0.117416  0.668961 -0.333036 -0.595641  0.052960  1.000000   \n",
            "일사합   0.378384  0.215384  0.610775 -0.292325 -0.445410  0.037713  0.814315   \n",
            "일조율  -0.122833 -0.294322  0.618291 -0.341010 -0.637874  0.057575  0.966441   \n",
            "평균기온  0.989548  0.989342  0.046904  0.174269  0.376363 -0.209078 -0.030099   \n",
            "\n",
            "           일사합       일조율      평균기온  \n",
            "최고기온  0.378384 -0.122833  0.989548  \n",
            "최저기온  0.215384 -0.294322  0.989342  \n",
            "일교차   0.610775  0.618291  0.046904  \n",
            "강수량  -0.292325 -0.341010  0.174269  \n",
            "평균습도 -0.445410 -0.637874  0.376363  \n",
            "평균풍속  0.037713  0.057575 -0.209078  \n",
            "일조합   0.814315  0.966441 -0.030099  \n",
            "일사합   1.000000  0.679639  0.296600  \n",
            "일조율   0.679639  1.000000 -0.215229  \n",
            "평균기온  0.296600 -0.215229  1.000000  \n"
          ]
        },
        {
          "output_type": "execute_result",
          "data": {
            "text/plain": [
              "<Axes: >"
            ]
          },
          "metadata": {},
          "execution_count": 7
        },
        {
          "output_type": "display_data",
          "data": {
            "text/plain": [
              "<Figure size 640x480 with 2 Axes>"
            ],
            "image/png": "[encoded data removed]"
          },
          "metadata": {}
        }
      ],
      "source": [
        "print(df.iloc[:,1:].corr())\n",
        "sns.heatmap(df.iloc[:,1:].corr())"
      ]
    },
    {
      "cell_type": "code",
      "execution_count": 8,
      "metadata": {
        "id": "fjLU4Zctf8nY"
      },
      "outputs": [],
      "source": [
        "df['월'] = df['일시'].str[5:7]"
      ]
    },
    {
      "cell_type": "code",
      "execution_count": 9,
      "metadata": {
        "id": "DbTuXM3cg1A2"
      },
      "outputs": [],
      "source": [
        "# 월을 기반으로 계절 생성\n",
        "def create_season(month):\n",
        "    if month in ['03', '04', '05']:\n",
        "        return '봄'\n",
        "    elif month in ['06', '07', '08','09']:\n",
        "        return '여름'\n",
        "    elif month in ['10', '11']:\n",
        "        return '가을'\n",
        "    else:\n",
        "        return '겨울'\n",
        "\n",
        "# '월' 컬럼으로부터 '계절' 컬럼 생성\n",
        "df['계절'] = df['월'].apply(create_season)\n",
        "\n",
        "# One-Hot Encoding 생성\n",
        "df_encoded = pd.get_dummies(df, columns=['계절'])"
      ]
    },
    {
      "cell_type": "code",
      "source": [
        "#강수량 확인\n",
        "sns.kdeplot(x=df_encoded['강수ㅠ량'])\n",
        "plt.show()"
      ],
      "metadata": {
        "colab": {
          "base_uri": "https://localhost:8080/",
          "height": 450
        },
        "id": "qAalks6vzFHB",
        "outputId": "1c824273-0193-4500-efda-a0f8e0623e01"
      },
      "execution_count": 16,
      "outputs": [
        {
          "output_type": "display_data",
          "data": {
            "text/plain": [
              "<Figure size 640x480 with 1 Axes>"
            ],
            "image/png": "[encoded data removed]"
          },
          "metadata": {}
        }
      ]
    },
    {
      "cell_type": "code",
      "source": [
        "#https://blog.naver.com/chummilmil99/223094140026\n",
        "print(len(sorted(df_encoded[df_encoded['강수량'] > 3]['강수량'])))\n",
        "def create_rain(rain):\n",
        "    if rain > 3:\n",
        "      return 1\n",
        "    else:\n",
        "      return 0\n",
        "df['강수량'] = df['강수량'].apply(create_season)"
      ],
      "metadata": {
        "colab": {
          "base_uri": "https://localhost:8080/"
        },
        "id": "7gguHzcO0UED",
        "outputId": "bd84deed-eca8-4791-eebd-e308883fd44e"
      },
      "execution_count": 29,
      "outputs": [
        {
          "output_type": "stream",
          "name": "stdout",
          "text": [
            "3653\n"
          ]
        }
      ]
    },
    {
      "cell_type": "code",
      "execution_count": 92,
      "metadata": {
        "id": "Y6VQsKoeybT_"
      },
      "outputs": [],
      "source": [
        "length=len(answer)*4\n",
        "X_train_data=df_encoded[['최고기온','평균습도','평균풍속','강수량','일조합','일사합','계절_가을','계절_겨울','계절_봄','계절_여름','평균기온']]\n",
        "X_train=X_train_data.iloc[:-length,:]\n",
        "X_test=X_train_data.iloc[-length:,:]\n",
        "X_val=X_train.iloc[int(len(X_train)*0.8):,:]\n",
        "X_train=X_train.iloc[:int(len(X_train)*0.8),:]\n"
      ]
    },
    {
      "cell_type": "code",
      "source": [
        "y_train=X_train['평균기온']\n",
        "y_val=X_val['평균기온']"
      ],
      "metadata": {
        "id": "_opx_imF9a4E"
      },
      "execution_count": 93,
      "outputs": []
    },
    {
      "cell_type": "code",
      "source": [
        "X_train.iloc[length:,:]"
      ],
      "metadata": {
        "colab": {
          "base_uri": "https://localhost:8080/",
          "height": 424
        },
        "id": "XjlEFM-6-dUV",
        "outputId": "e92181a3-14cc-4c56-a7e8-86b9dd32fc7d"
      },
      "execution_count": 94,
      "outputs": [
        {
          "output_type": "execute_result",
          "data": {
            "text/plain": [
              "       최고기온  평균습도  평균풍속  강수량   일조합    일사합  계절_가을  계절_겨울  계절_봄  계절_여름  평균기온\n",
              "1432    9.2  72.5   1.1  0.0   2.7   7.96      0      1     0      0   3.9\n",
              "1433    8.0  64.8   1.9  0.0   3.6   9.79      0      1     0      0   4.2\n",
              "1434    5.2  81.0   2.1  1.2   0.0   3.03      0      1     0      0   2.2\n",
              "1435    6.8  81.5   1.9  0.0   0.5   5.74      0      1     0      0   3.2\n",
              "1436    6.5  80.8   3.2  4.0   0.0   3.03      0      1     0      0   4.8\n",
              "...     ...   ...   ...  ...   ...    ...    ...    ...   ...    ...   ...\n",
              "17258   8.8  46.8   3.3  0.0   8.9  18.60      0      0     1      0   5.6\n",
              "17259   9.1  40.8   3.6  0.0   8.2  15.84      0      0     1      0   5.5\n",
              "17260  11.1  44.0   3.3  0.0  11.6  22.12      0      0     1      0   6.3\n",
              "17261  13.6  45.9   2.1  0.0   8.6  18.32      0      0     1      0   8.3\n",
              "17262  14.6  40.0   2.3  0.0   7.2  16.85      0      0     1      0   9.5\n",
              "\n",
              "[15831 rows x 11 columns]"
            ],
            "text/html": [
              "\n",
              "  <div id=\"df-b90d3f87-06bb-4107-a5ea-716a2149c851\" class=\"colab-df-container\">\n",
              "    <div>\n",
              "<style scoped>\n",
              "    .dataframe tbody tr th:only-of-type {\n",
              "        vertical-align: middle;\n",
              "    }\n",
              "\n",
              "    .dataframe tbody tr th {\n",
              "        vertical-align: top;\n",
              "    }\n",
              "\n",
              "    .dataframe thead th {\n",
              "        text-align: right;\n",
              "    }\n",
              "</style>\n",
              "<table border=\"1\" class=\"dataframe\">\n",
              "  <thead>\n",
              "    <tr style=\"text-align: right;\">\n",
              "      <th></th>\n",
              "      <th>최고기온</th>\n",
              "      <th>평균습도</th>\n",
              "      <th>평균풍속</th>\n",
              "      <th>강수량</th>\n",
              "      <th>일조합</th>\n",
              "      <th>일사합</th>\n",
              "      <th>계절_가을</th>\n",
              "      <th>계절_겨울</th>\n",
              "      <th>계절_봄</th>\n",
              "      <th>계절_여름</th>\n",
              "      <th>평균기온</th>\n",
              "    </tr>\n",
              "  </thead>\n",
              "  <tbody>\n",
              "    <tr>\n",
              "      <th>1432</th>\n",
              "      <td>9.2</td>\n",
              "      <td>72.5</td>\n",
              "      <td>1.1</td>\n",
              "      <td>0.0</td>\n",
              "      <td>2.7</td>\n",
              "      <td>7.96</td>\n",
              "      <td>0</td>\n",
              "      <td>1</td>\n",
              "      <td>0</td>\n",
              "      <td>0</td>\n",
              "      <td>3.9</td>\n",
              "    </tr>\n",
              "    <tr>\n",
              "      <th>1433</th>\n",
              "      <td>8.0</td>\n",
              "      <td>64.8</td>\n",
              "      <td>1.9</td>\n",
              "      <td>0.0</td>\n",
              "      <td>3.6</td>\n",
              "      <td>9.79</td>\n",
              "      <td>0</td>\n",
              "      <td>1</td>\n",
              "      <td>0</td>\n",
              "      <td>0</td>\n",
              "      <td>4.2</td>\n",
              "    </tr>\n",
              "    <tr>\n",
              "      <th>1434</th>\n",
              "      <td>5.2</td>\n",
              "      <td>81.0</td>\n",
              "      <td>2.1</td>\n",
              "      <td>1.2</td>\n",
              "      <td>0.0</td>\n",
              "      <td>3.03</td>\n",
              "      <td>0</td>\n",
              "      <td>1</td>\n",
              "      <td>0</td>\n",
              "      <td>0</td>\n",
              "      <td>2.2</td>\n",
              "    </tr>\n",
              "    <tr>\n",
              "      <th>1435</th>\n",
              "      <td>6.8</td>\n",
              "      <td>81.5</td>\n",
              "      <td>1.9</td>\n",
              "      <td>0.0</td>\n",
              "      <td>0.5</td>\n",
              "      <td>5.74</td>\n",
              "      <td>0</td>\n",
              "      <td>1</td>\n",
              "      <td>0</td>\n",
              "      <td>0</td>\n",
              "      <td>3.2</td>\n",
              "    </tr>\n",
              "    <tr>\n",
              "      <th>1436</th>\n",
              "      <td>6.5</td>\n",
              "      <td>80.8</td>\n",
              "      <td>3.2</td>\n",
              "      <td>4.0</td>\n",
              "      <td>0.0</td>\n",
              "      <td>3.03</td>\n",
              "      <td>0</td>\n",
              "      <td>1</td>\n",
              "      <td>0</td>\n",
              "      <td>0</td>\n",
              "      <td>4.8</td>\n",
              "    </tr>\n",
              "    <tr>\n",
              "      <th>...</th>\n",
              "      <td>...</td>\n",
              "      <td>...</td>\n",
              "      <td>...</td>\n",
              "      <td>...</td>\n",
              "      <td>...</td>\n",
              "      <td>...</td>\n",
              "      <td>...</td>\n",
              "      <td>...</td>\n",
              "      <td>...</td>\n",
              "      <td>...</td>\n",
              "      <td>...</td>\n",
              "    </tr>\n",
              "    <tr>\n",
              "      <th>17258</th>\n",
              "      <td>8.8</td>\n",
              "      <td>46.8</td>\n",
              "      <td>3.3</td>\n",
              "      <td>0.0</td>\n",
              "      <td>8.9</td>\n",
              "      <td>18.60</td>\n",
              "      <td>0</td>\n",
              "      <td>0</td>\n",
              "      <td>1</td>\n",
              "      <td>0</td>\n",
              "      <td>5.6</td>\n",
              "    </tr>\n",
              "    <tr>\n",
              "      <th>17259</th>\n",
              "      <td>9.1</td>\n",
              "      <td>40.8</td>\n",
              "      <td>3.6</td>\n",
              "      <td>0.0</td>\n",
              "      <td>8.2</td>\n",
              "      <td>15.84</td>\n",
              "      <td>0</td>\n",
              "      <td>0</td>\n",
              "      <td>1</td>\n",
              "      <td>0</td>\n",
              "      <td>5.5</td>\n",
              "    </tr>\n",
              "    <tr>\n",
              "      <th>17260</th>\n",
              "      <td>11.1</td>\n",
              "      <td>44.0</td>\n",
              "      <td>3.3</td>\n",
              "      <td>0.0</td>\n",
              "      <td>11.6</td>\n",
              "      <td>22.12</td>\n",
              "      <td>0</td>\n",
              "      <td>0</td>\n",
              "      <td>1</td>\n",
              "      <td>0</td>\n",
              "      <td>6.3</td>\n",
              "    </tr>\n",
              "    <tr>\n",
              "      <th>17261</th>\n",
              "      <td>13.6</td>\n",
              "      <td>45.9</td>\n",
              "      <td>2.1</td>\n",
              "      <td>0.0</td>\n",
              "      <td>8.6</td>\n",
              "      <td>18.32</td>\n",
              "      <td>0</td>\n",
              "      <td>0</td>\n",
              "      <td>1</td>\n",
              "      <td>0</td>\n",
              "      <td>8.3</td>\n",
              "    </tr>\n",
              "    <tr>\n",
              "      <th>17262</th>\n",
              "      <td>14.6</td>\n",
              "      <td>40.0</td>\n",
              "      <td>2.3</td>\n",
              "      <td>0.0</td>\n",
              "      <td>7.2</td>\n",
              "      <td>16.85</td>\n",
              "      <td>0</td>\n",
              "      <td>0</td>\n",
              "      <td>1</td>\n",
              "      <td>0</td>\n",
              "      <td>9.5</td>\n",
              "    </tr>\n",
              "  </tbody>\n",
              "</table>\n",
              "<p>15831 rows × 11 columns</p>\n",
              "</div>\n",
              "    <div class=\"colab-df-buttons\">\n",
              "\n",
              "  <div class=\"colab-df-container\">\n",
              "    <button class=\"colab-df-convert\" onclick=\"convertToInteractive('df-b90d3f87-06bb-4107-a5ea-716a2149c851')\"\n",
              "            title=\"Convert this dataframe to an interactive table.\"\n",
              "            style=\"display:none;\">\n",
              "\n",
              "  <svg xmlns=\"http://www.w3.org/2000/svg\" height=\"24px\" viewBox=\"0 -960 960 960\">\n",
              "    <path d=\"M120-120v-720h720v720H120Zm60-500h600v-160H180v160Zm220 220h160v-160H400v160Zm0 220h160v-160H400v160ZM180-400h160v-160H180v160Zm440 0h160v-160H620v160ZM180-180h160v-160H180v160Zm440 0h160v-160H620v160Z\"/>\n",
              "  </svg>\n",
              "    </button>\n",
              "\n",
              "  <style>\n",
              "    .colab-df-container {\n",
              "      display:flex;\n",
              "      gap: 12px;\n",
              "    }\n",
              "\n",
              "    .colab-df-convert {\n",
              "      background-color: #E8F0FE;\n",
              "      border: none;\n",
              "      border-radius: 50%;\n",
              "      cursor: pointer;\n",
              "      display: none;\n",
              "      fill: #1967D2;\n",
              "      height: 32px;\n",
              "      padding: 0 0 0 0;\n",
              "      width: 32px;\n",
              "    }\n",
              "\n",
              "    .colab-df-convert:hover {\n",
              "      background-color: #E2EBFA;\n",
              "      box-shadow: 0px 1px 2px rgba(60, 64, 67, 0.3), 0px 1px 3px 1px rgba(60, 64, 67, 0.15);\n",
              "      fill: #174EA6;\n",
              "    }\n",
              "\n",
              "    .colab-df-buttons div {\n",
              "      margin-bottom: 4px;\n",
              "    }\n",
              "\n",
              "    [theme=dark] .colab-df-convert {\n",
              "      background-color: #3B4455;\n",
              "      fill: #D2E3FC;\n",
              "    }\n",
              "\n",
              "    [theme=dark] .colab-df-convert:hover {\n",
              "      background-color: #434B5C;\n",
              "      box-shadow: 0px 1px 3px 1px rgba(0, 0, 0, 0.15);\n",
              "      filter: drop-shadow(0px 1px 2px rgba(0, 0, 0, 0.3));\n",
              "      fill: #FFFFFF;\n",
              "    }\n",
              "  </style>\n",
              "\n",
              "    <script>\n",
              "      const buttonEl =\n",
              "        document.querySelector('#df-b90d3f87-06bb-4107-a5ea-716a2149c851 button.colab-df-convert');\n",
              "      buttonEl.style.display =\n",
              "        google.colab.kernel.accessAllowed ? 'block' : 'none';\n",
              "\n",
              "      async function convertToInteractive(key) {\n",
              "        const element = document.querySelector('#df-b90d3f87-06bb-4107-a5ea-716a2149c851');\n",
              "        const dataTable =\n",
              "          await google.colab.kernel.invokeFunction('convertToInteractive',\n",
              "                                                    [key], {});\n",
              "        if (!dataTable) return;\n",
              "\n",
              "        const docLinkHtml = 'Like what you see? Visit the ' +\n",
              "          '<a target=\"_blank\" href=https://colab.research.google.com/notebooks/data_table.ipynb>data table notebook</a>'\n",
              "          + ' to learn more about interactive tables.';\n",
              "        element.innerHTML = '';\n",
              "        dataTable['output_type'] = 'display_data';\n",
              "        await google.colab.output.renderOutput(dataTable, element);\n",
              "        const docLink = document.createElement('div');\n",
              "        docLink.innerHTML = docLinkHtml;\n",
              "        element.appendChild(docLink);\n",
              "      }\n",
              "    </script>\n",
              "  </div>\n",
              "\n",
              "\n",
              "<div id=\"df-6d715c37-b1d1-435d-b4e5-a20685d9007a\">\n",
              "  <button class=\"colab-df-quickchart\" onclick=\"quickchart('df-6d715c37-b1d1-435d-b4e5-a20685d9007a')\"\n",
              "            title=\"Suggest charts\"\n",
              "            style=\"display:none;\">\n",
              "\n",
              "<svg xmlns=\"http://www.w3.org/2000/svg\" height=\"24px\"viewBox=\"0 0 24 24\"\n",
              "     width=\"24px\">\n",
              "    <g>\n",
              "        <path d=\"M19 3H5c-1.1 0-2 .9-2 2v14c0 1.1.9 2 2 2h14c1.1 0 2-.9 2-2V5c0-1.1-.9-2-2-2zM9 17H7v-7h2v7zm4 0h-2V7h2v10zm4 0h-2v-4h2v4z\"/>\n",
              "    </g>\n",
              "</svg>\n",
              "  </button>\n",
              "\n",
              "<style>\n",
              "  .colab-df-quickchart {\n",
              "      --bg-color: #E8F0FE;\n",
              "      --fill-color: #1967D2;\n",
              "      --hover-bg-color: #E2EBFA;\n",
              "      --hover-fill-color: #174EA6;\n",
              "      --disabled-fill-color: #AAA;\n",
              "      --disabled-bg-color: #DDD;\n",
              "  }\n",
              "\n",
              "  [theme=dark] .colab-df-quickchart {\n",
              "      --bg-color: #3B4455;\n",
              "      --fill-color: #D2E3FC;\n",
              "      --hover-bg-color: #434B5C;\n",
              "      --hover-fill-color: #FFFFFF;\n",
              "      --disabled-bg-color: #3B4455;\n",
              "      --disabled-fill-color: #666;\n",
              "  }\n",
              "\n",
              "  .colab-df-quickchart {\n",
              "    background-color: var(--bg-color);\n",
              "    border: none;\n",
              "    border-radius: 50%;\n",
              "    cursor: pointer;\n",
              "    display: none;\n",
              "    fill: var(--fill-color);\n",
              "    height: 32px;\n",
              "    padding: 0;\n",
              "    width: 32px;\n",
              "  }\n",
              "\n",
              "  .colab-df-quickchart:hover {\n",
              "    background-color: var(--hover-bg-color);\n",
              "    box-shadow: 0 1px 2px rgba(60, 64, 67, 0.3), 0 1px 3px 1px rgba(60, 64, 67, 0.15);\n",
              "    fill: var(--button-hover-fill-color);\n",
              "  }\n",
              "\n",
              "  .colab-df-quickchart-complete:disabled,\n",
              "  .colab-df-quickchart-complete:disabled:hover {\n",
              "    background-color: var(--disabled-bg-color);\n",
              "    fill: var(--disabled-fill-color);\n",
              "    box-shadow: none;\n",
              "  }\n",
              "\n",
              "  .colab-df-spinner {\n",
              "    border: 2px solid var(--fill-color);\n",
              "    border-color: transparent;\n",
              "    border-bottom-color: var(--fill-color);\n",
              "    animation:\n",
              "      spin 1s steps(1) infinite;\n",
              "  }\n",
              "\n",
              "  @keyframes spin {\n",
              "    0% {\n",
              "      border-color: transparent;\n",
              "      border-bottom-color: var(--fill-color);\n",
              "      border-left-color: var(--fill-color);\n",
              "    }\n",
              "    20% {\n",
              "      border-color: transparent;\n",
              "      border-left-color: var(--fill-color);\n",
              "      border-top-color: var(--fill-color);\n",
              "    }\n",
              "    30% {\n",
              "      border-color: transparent;\n",
              "      border-left-color: var(--fill-color);\n",
              "      border-top-color: var(--fill-color);\n",
              "      border-right-color: var(--fill-color);\n",
              "    }\n",
              "    40% {\n",
              "      border-color: transparent;\n",
              "      border-right-color: var(--fill-color);\n",
              "      border-top-color: var(--fill-color);\n",
              "    }\n",
              "    60% {\n",
              "      border-color: transparent;\n",
              "      border-right-color: var(--fill-color);\n",
              "    }\n",
              "    80% {\n",
              "      border-color: transparent;\n",
              "      border-right-color: var(--fill-color);\n",
              "      border-bottom-color: var(--fill-color);\n",
              "    }\n",
              "    90% {\n",
              "      border-color: transparent;\n",
              "      border-bottom-color: var(--fill-color);\n",
              "    }\n",
              "  }\n",
              "</style>\n",
              "\n",
              "  <script>\n",
              "    async function quickchart(key) {\n",
              "      const quickchartButtonEl =\n",
              "        document.querySelector('#' + key + ' button');\n",
              "      quickchartButtonEl.disabled = true;  // To prevent multiple clicks.\n",
              "      quickchartButtonEl.classList.add('colab-df-spinner');\n",
              "      try {\n",
              "        const charts = await google.colab.kernel.invokeFunction(\n",
              "            'suggestCharts', [key], {});\n",
              "      } catch (error) {\n",
              "        console.error('Error during call to suggestCharts:', error);\n",
              "      }\n",
              "      quickchartButtonEl.classList.remove('colab-df-spinner');\n",
              "      quickchartButtonEl.classList.add('colab-df-quickchart-complete');\n",
              "    }\n",
              "    (() => {\n",
              "      let quickchartButtonEl =\n",
              "        document.querySelector('#df-6d715c37-b1d1-435d-b4e5-a20685d9007a button');\n",
              "      quickchartButtonEl.style.display =\n",
              "        google.colab.kernel.accessAllowed ? 'block' : 'none';\n",
              "    })();\n",
              "  </script>\n",
              "</div>\n",
              "\n",
              "    </div>\n",
              "  </div>\n"
            ]
          },
          "metadata": {},
          "execution_count": 94
        }
      ]
    },
    {
      "cell_type": "code",
      "execution_count": 95,
      "metadata": {
        "colab": {
          "base_uri": "https://localhost:8080/"
        },
        "id": "ePPK1srpLsYl",
        "outputId": "3a28761b-36bb-4ecb-8570-b60767e42112"
      },
      "outputs": [
        {
          "output_type": "stream",
          "name": "stderr",
          "text": [
            "100%|██████████| 15473/15473 [00:00<00:00, 441270.03it/s]\n",
            "100%|██████████| 2526/2526 [00:00<00:00, 342707.81it/s]\n"
          ]
        }
      ],
      "source": [
        "from tqdm import tqdm\n",
        "from sklearn.preprocessing import MinMaxScaler, StandardScaler\n",
        "X_train = X_train.astype('float32')\n",
        "mx=MinMaxScaler()\n",
        "ss=StandardScaler()\n",
        "X_train=ss.fit_transform(X_train)\n",
        "X_val=ss.transform(X_val)\n",
        "X_train_data = []\n",
        "y_train_data = []\n",
        "X_val_data=[]\n",
        "y_val_data=[]\n",
        "\n",
        "for i in tqdm(range(length, len(X_train) - len(answer))):\n",
        "    X_train_data.append(X_train[i - length:i])\n",
        "    y_train_data.append(y_train.values[i:i + len(answer)])\n",
        "for i in tqdm(range(length, len(X_val) - len(answer))):\n",
        "    X_val_data.append(X_val[i - length:i])\n",
        "    y_val_data.append(y_val.values[i:i + len(answer)])\n",
        "\n",
        "X_train_data = np.array(X_train_data, dtype=np.float32)\n",
        "y_train_data = np.array(y_train_data, dtype=np.float32)\n",
        "X_val_data = np.array(X_val_data, dtype=np.float32)\n",
        "y_val_data = np.array(y_val_data, dtype=np.float32)"
      ]
    },
    {
      "cell_type": "code",
      "execution_count": 96,
      "metadata": {
        "colab": {
          "base_uri": "https://localhost:8080/"
        },
        "id": "5dAWJQSAO35Z",
        "outputId": "bcddecaf-d83c-4344-af05-356cb3706f67"
      },
      "outputs": [
        {
          "output_type": "stream",
          "name": "stdout",
          "text": [
            "Model: \"model_5\"\n",
            "_________________________________________________________________\n",
            " Layer (type)                Output Shape              Param #   \n",
            "=================================================================\n",
            " input_6 (InputLayer)        [(None, 1432, 11)]        0         \n",
            "                                                                 \n",
            " lstm_4 (LSTM)               (None, 1432, 32)          5632      \n",
            "                                                                 \n",
            " layer_normalization_2 (Lay  (None, 1432, 32)          64        \n",
            " erNormalization)                                                \n",
            "                                                                 \n",
            " lstm_5 (LSTM)               (None, 1432, 32)          8320      \n",
            "                                                                 \n",
            " layer_normalization_3 (Lay  (None, 1432, 32)          64        \n",
            " erNormalization)                                                \n",
            "                                                                 \n",
            " lstm_6 (LSTM)               (None, 64)                24832     \n",
            "                                                                 \n",
            " layer_normalization_4 (Lay  (None, 64)                128       \n",
            " erNormalization)                                                \n",
            "                                                                 \n",
            " dense_15 (Dense)            (None, 256)               16640     \n",
            "                                                                 \n",
            " dense_16 (Dense)            (None, 128)               32896     \n",
            "                                                                 \n",
            " dense_17 (Dense)            (None, 358)               46182     \n",
            "                                                                 \n",
            "=================================================================\n",
            "Total params: 134758 (526.40 KB)\n",
            "Trainable params: 134758 (526.40 KB)\n",
            "Non-trainable params: 0 (0.00 Byte)\n",
            "_________________________________________________________________\n"
          ]
        }
      ],
      "source": [
        "import tensorflow as tf\n",
        "from tensorflow.keras.models import Sequential\n",
        "from tensorflow.keras.layers import LSTM, Dense, BatchNormalization, LayerNormalization, Bidirectional\n",
        "from tensorflow.keras.callbacks import EarlyStopping\n",
        "import numpy as np\n",
        "\n",
        "input1 = tf.keras.Input(shape=(X_train_data.shape[1], X_train_data.shape[2]))\n",
        "lstm1 = Bidirectional(LSTM(32, activation='tanh', return_sequences=True))(input1)\n",
        "layer_norm1 = LayerNormalization()(lstm1)\n",
        "lstm2 = Bidirectional(LSTM(32, activation='tanh', return_sequences=True))(layer_norm1)\n",
        "layer_norm2 = LayerNormalization()(lstm2)\n",
        "lstm3 = Bidirectional(LSTM(64, activation='tanh', return_sequences=False))(layer_norm2)\n",
        "layer_norm3 = LayerNormalization()(lstm3)\n",
        "output1 = Dense(256, activation='swish')(layer_norm3)\n",
        "output2 = Dense(128, activation='swish')(output1)\n",
        "output4 = Dense(y_train_data.shape[1])(output2)\n",
        "\n",
        "model = tf.keras.Model(inputs=input1, outputs=output4)\n",
        "model.compile(loss='mae', optimizer='Nadam', metrics=['mean_absolute_error'])\n",
        "model.summary()"
      ]
    },
    {
      "cell_type": "code",
      "execution_count": 97,
      "metadata": {
        "colab": {
          "base_uri": "https://localhost:8080/"
        },
        "id": "Q6oeaZcJ40nR",
        "outputId": "33a87a2d-a537-48a3-dcdd-7072b147ca24"
      },
      "outputs": [
        {
          "output_type": "stream",
          "name": "stdout",
          "text": [
            "Epoch 1/100\n",
            "484/484 [==============================] - 74s 136ms/step - loss: 26.4820 - mean_absolute_error: 3.4743 - val_loss: 11.8977 - val_mean_absolute_error: 2.6913\n",
            "Epoch 2/100\n",
            "484/484 [==============================] - 60s 123ms/step - loss: 10.4328 - mean_absolute_error: 2.4926 - val_loss: 11.4400 - val_mean_absolute_error: 2.6263\n",
            "Epoch 3/100\n",
            "484/484 [==============================] - 64s 132ms/step - loss: 10.1553 - mean_absolute_error: 2.4593 - val_loss: 12.3545 - val_mean_absolute_error: 2.7522\n",
            "Epoch 4/100\n",
            "484/484 [==============================] - 59s 122ms/step - loss: 9.9451 - mean_absolute_error: 2.4348 - val_loss: 12.4148 - val_mean_absolute_error: 2.7531\n",
            "Epoch 5/100\n",
            "484/484 [==============================] - 61s 126ms/step - loss: 9.8174 - mean_absolute_error: 2.4187 - val_loss: 12.3618 - val_mean_absolute_error: 2.7429\n"
          ]
        }
      ],
      "source": [
        "early_stopping = EarlyStopping(monitor='val_loss', patience=3, restore_best_weights=True)\n",
        "history = model.fit(\n",
        "    X_train_data, y_train_data,\n",
        "    epochs=100,\n",
        "    batch_size=32,\n",
        "    validation_data=(X_val_data, y_val_data),\n",
        "    callbacks=[early_stopping]\n",
        ")"
      ]
    },
    {
      "cell_type": "code",
      "execution_count": 98,
      "metadata": {
        "id": "F_rfEdtEPYpD"
      },
      "outputs": [],
      "source": [
        "ss_test_feature_data=ss.transform(X_test)\n",
        "X_test_predict_data=ss_test_feature_data"
      ]
    },
    {
      "cell_type": "code",
      "execution_count": 99,
      "metadata": {
        "id": "UGG6pYsnoyjc"
      },
      "outputs": [],
      "source": [
        "X_test_predict_data.shape\n",
        "X_test_predict_data=X_test_predict_data.reshape((1,) + X_test_predict_data.shape)"
      ]
    },
    {
      "cell_type": "code",
      "execution_count": 100,
      "metadata": {
        "colab": {
          "base_uri": "https://localhost:8080/"
        },
        "id": "Bn72xkISo4cz",
        "outputId": "722a3f94-ec17-4671-d4d3-53910115d48b"
      },
      "outputs": [
        {
          "output_type": "execute_result",
          "data": {
            "text/plain": [
              "(1, 1432, 11)"
            ]
          },
          "metadata": {},
          "execution_count": 100
        }
      ],
      "source": [
        "X_test_predict_data.shape"
      ]
    },
    {
      "cell_type": "code",
      "execution_count": 101,
      "metadata": {
        "colab": {
          "base_uri": "https://localhost:8080/"
        },
        "id": "TDoFgJRhpFuk",
        "outputId": "57a63ee6-6e03-4ccc-fb28-a4fdc6314031"
      },
      "outputs": [
        {
          "output_type": "stream",
          "name": "stdout",
          "text": [
            "1/1 [==============================] - 1s 1s/step\n"
          ]
        }
      ],
      "source": [
        "t=model.predict(X_test_predict_data)"
      ]
    },
    {
      "cell_type": "code",
      "execution_count": 102,
      "metadata": {
        "colab": {
          "base_uri": "https://localhost:8080/",
          "height": 443
        },
        "id": "jZVzHlVopkJT",
        "outputId": "7f881d85-676b-456c-d67f-3f211e8655a4"
      },
      "outputs": [
        {
          "output_type": "execute_result",
          "data": {
            "text/plain": [
              "[<matplotlib.lines.Line2D at 0x7cdc89d049d0>]"
            ]
          },
          "metadata": {},
          "execution_count": 102
        },
        {
          "output_type": "display_data",
          "data": {
            "text/plain": [
              "<Figure size 640x480 with 1 Axes>"
            ],
            "image/png": "[encoded data removed]"
          },
          "metadata": {}
        }
      ],
      "source": [
        "plt.plot(t[0])"
      ]
    },
    {
      "cell_type": "code",
      "execution_count": 103,
      "metadata": {
        "id": "q7tOkgWUqLEq"
      },
      "outputs": [],
      "source": [
        "answer['평균기온']=t[0]\n",
        "answer.to_csv('answer.csv',index=False)"
      ]
    },
    {
      "cell_type": "code",
      "execution_count": null,
      "metadata": {
        "id": "KHpQvk_4qYF7"
      },
      "outputs": [],
      "source": []
    }
  ],
  "metadata": {
    "colab": {
      "provenance": [],
      "gpuType": "T4"
    },
    "kernelspec": {
      "display_name": "Python 3",
      "name": "python3"
    },
    "language_info": {
      "codemirror_mode": {
        "name": "ipython",
        "version": 3
      },
      "file_extension": ".py",
      "mimetype": "text/x-python",
      "name": "python",
      "nbconvert_exporter": "python",
      "pygments_lexer": "ipython3",
      "version": "3.9.6"
    },
    "accelerator": "GPU"
  },
  "nbformat": 4,
  "nbformat_minor": 0
}