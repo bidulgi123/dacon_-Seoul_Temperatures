{
  "cells": [
    {
      "cell_type": "code",
      "source": [
        "from google.colab import drive\n",
        "drive.mount('/content/drive')"
      ],
      "metadata": {
        "colab": {
          "base_uri": "https://localhost:8080/"
        },
        "id": "-cp0WUWZLv5Q",
        "outputId": "fa9b94f0-c8c7-450e-966b-d8892f381660"
      },
      "execution_count": null,
      "outputs": [
        {
          "output_type": "stream",
          "name": "stdout",
          "text": [
            "Mounted at /content/drive\n"
          ]
        }
      ]
    },
    {
      "cell_type": "code",
      "source": [
        "!sudo apt-get install -y fonts-nanum\n",
        "!sudo fc-cache -fv\n",
        "!rm ~/.cache/matplotlib -rf"
      ],
      "metadata": {
        "id": "qVoGETVF9Xca"
      },
      "execution_count": null,
      "outputs": []
    },
    {
      "cell_type": "code",
      "source": [
        "import pandas as pd\n",
        "import warnings\n",
        "import seaborn as sns\n",
        "import matplotlib.pyplot as plt\n",
        "import numpy as np\n",
        "plt.style.use('bmh')\n",
        "plt.rc('font', family='NanumBarunGothic')\n",
        "warnings.filterwarnings('ignore')\n",
        "plt.rcParams['axes.unicode_minus'] = False\n",
        "path='/content/drive/MyDrive/lstm_dacon/'\n",
        "df= pd.read_csv(path+\"train.csv\")\n",
        "answer = pd.read_csv(path+\"sample_submission.csv\")"
      ],
      "metadata": {
        "id": "2DMNJgBFL0kt"
      },
      "execution_count": null,
      "outputs": []
    },
    {
      "cell_type": "code",
      "execution_count": null,
      "metadata": {
        "colab": {
          "base_uri": "https://localhost:8080/"
        },
        "id": "GYQAcH8XLsYi",
        "outputId": "b673fd2f-0e95-4d6d-cc79-4f0b3e1637d9"
      },
      "outputs": [
        {
          "output_type": "execute_result",
          "data": {
            "text/plain": [
              "일시          0\n",
              "최고기온        3\n",
              "최저기온        3\n",
              "일교차         4\n",
              "강수량     13861\n",
              "평균습도        0\n",
              "평균풍속        4\n",
              "일조합       118\n",
              "일사합      4862\n",
              "일조율       366\n",
              "평균기온        0\n",
              "dtype: int64"
            ]
          },
          "metadata": {},
          "execution_count": 3
        }
      ],
      "source": [
        "\"\"\"\n",
        "일조합과 일사합은 태양의 빛과 관련된 용어로, 기상학에서 중요한 요소입니다.\n",
        "\n",
        "일조합(日照合): 일조합은 특정 장소에서 실제로 태양 빛이 도달하는 시간의 총합을 말해요.\n",
        "기상 관측에서는 보통 하루 동안 태양 빛이 땅에 닿는 시간을 측정하며, 이를 일조시간이라고 합니다.\n",
        "그리고 일정 기간 동안의 일조시간을 모두 더한 것이 일조합이죠.\n",
        "일사합(日射合): 일사합은 일정 기간 동안 태양으로부터 받은 총 일사 에너지의 양을 말합니다.\n",
        "일사량은 태양 복사 에너지가 지표면에 닿는 양을 말하고,\n",
        "이를 측정하는 것은 태양의 에너지가 실제로 얼마나 지구에 도달했는지를 알려주는 중요한 지표가 됩니다.\n",
        "일조율 : 흐림정도\n",
        "\"\"\"\n",
        "\n",
        "df.isna().sum()"
      ]
    },
    {
      "cell_type": "code",
      "execution_count": null,
      "metadata": {
        "id": "8mkF_HUkLsYj"
      },
      "outputs": [],
      "source": [
        "null_cols = ['최고기온', '최저기온','평균풍속']\n",
        "for col in null_cols:\n",
        "  df[col].interpolate(method='linear', inplace=True)"
      ]
    },
    {
      "cell_type": "code",
      "execution_count": null,
      "metadata": {
        "id": "c7qgRqT3LsYj"
      },
      "outputs": [],
      "source": [
        "df['일교차']=df['최고기온']-df['최저기온']\n",
        "df['강수량']=df['강수량'].fillna(0)"
      ]
    },
    {
      "cell_type": "code",
      "execution_count": null,
      "metadata": {
        "id": "SfvfVA8YLsYj"
      },
      "outputs": [],
      "source": [
        "for i in df[df[['일조율']].isnull().any(axis=1)].index:\n",
        "    df.loc[i,'일조율']=df[df['일조합']==df.loc[i]['일조합']]['일조율'].median()\n",
        "for i in df[df[['일조합']].isnull().any(axis=1)].index:\n",
        "    df.loc[i,'일조합']=df[df['일조율']==df.loc[i]['일조율']]['일조합'].median()\n",
        "for i in df[df[['일사합']].isnull().any(axis=1)].index:\n",
        "    df.loc[i,'일사합']=df[df['일조합']==df.loc[i]['일조합']]['일사합'].median()"
      ]
    },
    {
      "cell_type": "code",
      "execution_count": null,
      "metadata": {
        "colab": {
          "base_uri": "https://localhost:8080/"
        },
        "id": "pbw9oteCLsYk",
        "outputId": "71f9f475-b906-45ea-a9ed-7fd007f4bd4c"
      },
      "outputs": [
        {
          "output_type": "execute_result",
          "data": {
            "text/plain": [
              "일시      0\n",
              "최고기온    0\n",
              "최저기온    0\n",
              "일교차     0\n",
              "강수량     0\n",
              "평균습도    0\n",
              "평균풍속    0\n",
              "일조합     0\n",
              "일사합     0\n",
              "일조율     0\n",
              "평균기온    0\n",
              "dtype: int64"
            ]
          },
          "metadata": {},
          "execution_count": 7
        }
      ],
      "source": [
        "df.isna().sum()"
      ]
    },
    {
      "cell_type": "code",
      "execution_count": null,
      "metadata": {
        "id": "EzVmY8zELsYk"
      },
      "outputs": [],
      "source": [
        "# print(df.iloc[:,1:].corr())\n",
        "# sns.heatmap(df.iloc[:,1:].corr())"
      ]
    },
    {
      "cell_type": "code",
      "source": [
        "df['월'] = df['일시'].str[5:7]"
      ],
      "metadata": {
        "id": "fjLU4Zctf8nY"
      },
      "execution_count": null,
      "outputs": []
    },
    {
      "cell_type": "code",
      "source": [
        "# 월을 기반으로 계절 생성\n",
        "def create_season(month):\n",
        "    if month in ['03', '04', '05']:\n",
        "        return '봄'\n",
        "    elif month in ['06', '07', '08']:\n",
        "        return '여름'\n",
        "    elif month in ['09', '10', '11']:\n",
        "        return '가을'\n",
        "    else:\n",
        "        return '겨울'\n",
        "\n",
        "# '월' 컬럼으로부터 '계절' 컬럼 생성\n",
        "df['계절'] = df['월'].apply(create_season)\n",
        "\n",
        "# One-Hot Encoding 생성\n",
        "df_encoded = pd.get_dummies(df, columns=['계절'])"
      ],
      "metadata": {
        "id": "DbTuXM3cg1A2"
      },
      "execution_count": null,
      "outputs": []
    },
    {
      "cell_type": "code",
      "source": [
        "length=1100\n",
        "X_train_data=df_encoded[['최고기온','평균습도','평균풍속','일조합','일사합','계절_가을','계절_겨울','계절_봄','계절_여름','평균기온']]\n",
        "X_train=X_train_data.iloc[:-length,:]\n",
        "X_test=X_train_data.iloc[-length:,:]"
      ],
      "metadata": {
        "id": "Y6VQsKoeybT_"
      },
      "execution_count": null,
      "outputs": []
    },
    {
      "cell_type": "code",
      "execution_count": null,
      "metadata": {
        "colab": {
          "base_uri": "https://localhost:8080/"
        },
        "id": "ePPK1srpLsYl",
        "outputId": "5bff82d3-ce7a-4e94-a7b0-84adda96cd5c"
      },
      "outputs": [
        {
          "output_type": "stream",
          "name": "stderr",
          "text": [
            "100%|██████████| 20453/20453 [00:00<00:00, 198394.32it/s]\n"
          ]
        }
      ],
      "source": [
        "from tqdm import tqdm\n",
        "from sklearn.preprocessing import MinMaxScaler, StandardScaler\n",
        "X_train = X_train.astype('float32')\n",
        "mx=MinMaxScaler()\n",
        "ss=StandardScaler()\n",
        "mx_feature_data=ss.fit_transform(X_train)\n",
        "X_train=mx_feature_data\n",
        "y_train = df_encoded[['최고기온']]\n",
        "X_train_data = []\n",
        "y_train_data = []\n",
        "\n",
        "for i in tqdm(range(length, len(X_train) - len(answer))):\n",
        "    X_train_data.append(X_train[i - length:i])\n",
        "    y_train_data.append(y_train.values[i:i + len(answer), -1])\n",
        "\n",
        "X_train_data = np.array(X_train_data, dtype=np.float32)  # float32 타입으로 배열 생성\n",
        "y_train_data = np.array(y_train_data, dtype=np.float32)  # float32 타입으로 배열 생성"
      ]
    },
    {
      "cell_type": "code",
      "source": [
        "import tensorflow as tf\n",
        "from tensorflow.keras.models import Sequential\n",
        "from tensorflow.keras.layers import Bidirectional, LSTM, Dense, BatchNormalization, Flatten, Dropout\n",
        "import numpy as np\n",
        "\n",
        "input1 = tf.keras.Input(shape=(X_train_data.shape[1], X_train_data.shape[2]))\n",
        "bi_lstm1 = LSTM(32, activation='tanh', return_sequences=False)(input1)\n",
        "output1 = Dense(64, activation='swish')(bi_lstm1)\n",
        "output2 = Dense(128, activation='swish')(output1)\n",
        "output4 = Dense(y_train_data.shape[1])(output2)\n",
        "\n",
        "model = tf.keras.Model(inputs=input1, outputs=output4)\n",
        "model.compile(loss='mse', optimizer='Nadam', metrics=['mean_absolute_error'])\n",
        "model.summary()"
      ],
      "metadata": {
        "colab": {
          "base_uri": "https://localhost:8080/"
        },
        "id": "5dAWJQSAO35Z",
        "outputId": "19c47437-e012-42d9-e385-4f6a5c22971f"
      },
      "execution_count": null,
      "outputs": [
        {
          "output_type": "stream",
          "name": "stdout",
          "text": [
            "Model: \"model_3\"\n",
            "_________________________________________________________________\n",
            " Layer (type)                Output Shape              Param #   \n",
            "=================================================================\n",
            " input_4 (InputLayer)        [(None, 1100, 10)]        0         \n",
            "                                                                 \n",
            " lstm_3 (LSTM)               (None, 32)                5504      \n",
            "                                                                 \n",
            " dense_9 (Dense)             (None, 64)                2112      \n",
            "                                                                 \n",
            " dense_10 (Dense)            (None, 128)               8320      \n",
            "                                                                 \n",
            " dense_11 (Dense)            (None, 358)               46182     \n",
            "                                                                 \n",
            "=================================================================\n",
            "Total params: 62118 (242.65 KB)\n",
            "Trainable params: 62118 (242.65 KB)\n",
            "Non-trainable params: 0 (0.00 Byte)\n",
            "_________________________________________________________________\n"
          ]
        }
      ]
    },
    {
      "cell_type": "code",
      "source": [
        "model.fit(X_train_data, y_train_data, epochs=20, batch_size=64, verbose=1)"
      ],
      "metadata": {
        "colab": {
          "base_uri": "https://localhost:8080/"
        },
        "id": "Q6oeaZcJ40nR",
        "outputId": "9093ebe9-c9b9-4687-a8b5-a9111fa466e7"
      },
      "execution_count": null,
      "outputs": [
        {
          "output_type": "stream",
          "name": "stdout",
          "text": [
            "Epoch 1/20\n",
            "320/320 [==============================] - 14s 30ms/step - loss: 81.8438 - mean_absolute_error: 6.0163\n",
            "Epoch 2/20\n",
            "320/320 [==============================] - 11s 34ms/step - loss: 14.4412 - mean_absolute_error: 3.0043\n",
            "Epoch 3/20\n",
            "320/320 [==============================] - 11s 34ms/step - loss: 13.9857 - mean_absolute_error: 2.9570\n",
            "Epoch 4/20\n",
            "320/320 [==============================] - 11s 34ms/step - loss: 13.8742 - mean_absolute_error: 2.9455\n",
            "Epoch 5/20\n",
            "320/320 [==============================] - 11s 34ms/step - loss: 13.7903 - mean_absolute_error: 2.9372\n",
            "Epoch 6/20\n",
            "320/320 [==============================] - 15s 45ms/step - loss: 13.7132 - mean_absolute_error: 2.9287\n",
            "Epoch 7/20\n",
            "320/320 [==============================] - 11s 35ms/step - loss: 13.6381 - mean_absolute_error: 2.9203\n",
            "Epoch 8/20\n",
            "320/320 [==============================] - 10s 32ms/step - loss: 13.5813 - mean_absolute_error: 2.9138\n",
            "Epoch 9/20\n",
            "320/320 [==============================] - 11s 35ms/step - loss: 13.5334 - mean_absolute_error: 2.9083\n",
            "Epoch 10/20\n",
            "320/320 [==============================] - 11s 35ms/step - loss: 13.4793 - mean_absolute_error: 2.9024\n",
            "Epoch 11/20\n",
            "320/320 [==============================] - 11s 35ms/step - loss: 13.4359 - mean_absolute_error: 2.8975\n",
            "Epoch 12/20\n",
            "320/320 [==============================] - 10s 32ms/step - loss: 13.4096 - mean_absolute_error: 2.8944\n",
            "Epoch 13/20\n",
            "320/320 [==============================] - 11s 34ms/step - loss: 13.3792 - mean_absolute_error: 2.8909\n",
            "Epoch 14/20\n",
            "320/320 [==============================] - 11s 35ms/step - loss: 13.3596 - mean_absolute_error: 2.8884\n",
            "Epoch 15/20\n",
            "320/320 [==============================] - 11s 35ms/step - loss: 13.3373 - mean_absolute_error: 2.8859\n",
            "Epoch 16/20\n",
            "320/320 [==============================] - 11s 33ms/step - loss: 13.3211 - mean_absolute_error: 2.8840\n",
            "Epoch 17/20\n",
            "320/320 [==============================] - 11s 34ms/step - loss: 13.3032 - mean_absolute_error: 2.8818\n",
            "Epoch 18/20\n",
            "320/320 [==============================] - 11s 35ms/step - loss: 13.2902 - mean_absolute_error: 2.8801\n",
            "Epoch 19/20\n",
            "320/320 [==============================] - 11s 35ms/step - loss: 13.2627 - mean_absolute_error: 2.8769\n",
            "Epoch 20/20\n",
            "320/320 [==============================] - 11s 34ms/step - loss: 13.2470 - mean_absolute_error: 2.8752\n"
          ]
        },
        {
          "output_type": "execute_result",
          "data": {
            "text/plain": [
              "<keras.src.callbacks.History at 0x7b8f22adbbb0>"
            ]
          },
          "metadata": {},
          "execution_count": 26
        }
      ]
    },
    {
      "cell_type": "code",
      "source": [
        "ss_test_feature_data=ss.transform(X_test)\n",
        "X_test_predict_data=ss_test_feature_data"
      ],
      "metadata": {
        "id": "F_rfEdtEPYpD"
      },
      "execution_count": null,
      "outputs": []
    },
    {
      "cell_type": "code",
      "source": [
        "X_test_predict_data.shape\n",
        "X_test_predict_data=X_test_predict_data.reshape((1,) + X_test_predict_data.shape)"
      ],
      "metadata": {
        "id": "UGG6pYsnoyjc"
      },
      "execution_count": null,
      "outputs": []
    },
    {
      "cell_type": "code",
      "source": [
        "X_test_predict_data.shape"
      ],
      "metadata": {
        "colab": {
          "base_uri": "https://localhost:8080/"
        },
        "id": "Bn72xkISo4cz",
        "outputId": "f452a21f-518d-469a-e7e4-947550336c54"
      },
      "execution_count": null,
      "outputs": [
        {
          "output_type": "execute_result",
          "data": {
            "text/plain": [
              "(1, 1100, 10)"
            ]
          },
          "metadata": {},
          "execution_count": 35
        }
      ]
    },
    {
      "cell_type": "code",
      "source": [
        "t=model.predict(X_test_predict_data)"
      ],
      "metadata": {
        "colab": {
          "base_uri": "https://localhost:8080/"
        },
        "id": "TDoFgJRhpFuk",
        "outputId": "c948f311-92cd-4ebc-d09d-1a4dc73d375a"
      },
      "execution_count": null,
      "outputs": [
        {
          "output_type": "stream",
          "name": "stdout",
          "text": [
            "1/1 [==============================] - 0s 30ms/step\n"
          ]
        }
      ]
    },
    {
      "cell_type": "code",
      "source": [
        "plt.plot(t[0])"
      ],
      "metadata": {
        "colab": {
          "base_uri": "https://localhost:8080/",
          "height": 1000
        },
        "id": "jZVzHlVopkJT",
        "outputId": "3ea6b468-e517-4a1a-9572-809ef595c979"
      },
      "execution_count": null,
      "outputs": [
        {
          "output_type": "execute_result",
          "data": {
            "text/plain": [
              "[<matplotlib.lines.Line2D at 0x7b8edf775390>]"
            ]
          },
          "metadata": {},
          "execution_count": 37
        },
        {
          "output_type": "stream",
          "name": "stderr",
          "text": [
            "WARNING:matplotlib.font_manager:findfont: Font family 'NanumGothic' not found.\n",
            "WARNING:matplotlib.font_manager:findfont: Font family 'NanumGothic' not found.\n",
            "WARNING:matplotlib.font_manager:findfont: Font family 'NanumGothic' not found.\n",
            "WARNING:matplotlib.font_manager:findfont: Font family 'NanumGothic' not found.\n",
            "WARNING:matplotlib.font_manager:findfont: Font family 'NanumGothic' not found.\n",
            "WARNING:matplotlib.font_manager:findfont: Font family 'NanumGothic' not found.\n",
            "WARNING:matplotlib.font_manager:findfont: Font family 'NanumGothic' not found.\n",
            "WARNING:matplotlib.font_manager:findfont: Font family 'NanumGothic' not found.\n",
            "WARNING:matplotlib.font_manager:findfont: Font family 'NanumGothic' not found.\n",
            "WARNING:matplotlib.font_manager:findfont: Font family 'NanumGothic' not found.\n",
            "WARNING:matplotlib.font_manager:findfont: Font family 'NanumGothic' not found.\n",
            "WARNING:matplotlib.font_manager:findfont: Font family 'NanumGothic' not found.\n",
            "WARNING:matplotlib.font_manager:findfont: Font family 'NanumGothic' not found.\n",
            "WARNING:matplotlib.font_manager:findfont: Font family 'NanumGothic' not found.\n",
            "WARNING:matplotlib.font_manager:findfont: Font family 'NanumGothic' not found.\n",
            "WARNING:matplotlib.font_manager:findfont: Font family 'NanumGothic' not found.\n",
            "WARNING:matplotlib.font_manager:findfont: Font family 'NanumGothic' not found.\n",
            "WARNING:matplotlib.font_manager:findfont: Font family 'NanumGothic' not found.\n",
            "WARNING:matplotlib.font_manager:findfont: Font family 'NanumGothic' not found.\n",
            "WARNING:matplotlib.font_manager:findfont: Font family 'NanumGothic' not found.\n",
            "WARNING:matplotlib.font_manager:findfont: Font family 'NanumGothic' not found.\n",
            "WARNING:matplotlib.font_manager:findfont: Font family 'NanumGothic' not found.\n",
            "WARNING:matplotlib.font_manager:findfont: Font family 'NanumGothic' not found.\n",
            "WARNING:matplotlib.font_manager:findfont: Font family 'NanumGothic' not found.\n",
            "WARNING:matplotlib.font_manager:findfont: Font family 'NanumGothic' not found.\n",
            "WARNING:matplotlib.font_manager:findfont: Font family 'NanumGothic' not found.\n",
            "WARNING:matplotlib.font_manager:findfont: Font family 'NanumGothic' not found.\n",
            "WARNING:matplotlib.font_manager:findfont: Font family 'NanumGothic' not found.\n",
            "WARNING:matplotlib.font_manager:findfont: Font family 'NanumGothic' not found.\n",
            "WARNING:matplotlib.font_manager:findfont: Font family 'NanumGothic' not found.\n",
            "WARNING:matplotlib.font_manager:findfont: Font family 'NanumGothic' not found.\n",
            "WARNING:matplotlib.font_manager:findfont: Font family 'NanumGothic' not found.\n",
            "WARNING:matplotlib.font_manager:findfont: Font family 'NanumGothic' not found.\n",
            "WARNING:matplotlib.font_manager:findfont: Font family 'NanumGothic' not found.\n",
            "WARNING:matplotlib.font_manager:findfont: Font family 'NanumGothic' not found.\n",
            "WARNING:matplotlib.font_manager:findfont: Font family 'NanumGothic' not found.\n",
            "WARNING:matplotlib.font_manager:findfont: Font family 'NanumGothic' not found.\n",
            "WARNING:matplotlib.font_manager:findfont: Font family 'NanumGothic' not found.\n",
            "WARNING:matplotlib.font_manager:findfont: Font family 'NanumGothic' not found.\n",
            "WARNING:matplotlib.font_manager:findfont: Font family 'NanumGothic' not found.\n",
            "WARNING:matplotlib.font_manager:findfont: Font family 'NanumGothic' not found.\n",
            "WARNING:matplotlib.font_manager:findfont: Font family 'NanumGothic' not found.\n",
            "WARNING:matplotlib.font_manager:findfont: Font family 'NanumGothic' not found.\n",
            "WARNING:matplotlib.font_manager:findfont: Font family 'NanumGothic' not found.\n",
            "WARNING:matplotlib.font_manager:findfont: Font family 'NanumGothic' not found.\n",
            "WARNING:matplotlib.font_manager:findfont: Font family 'NanumGothic' not found.\n",
            "WARNING:matplotlib.font_manager:findfont: Font family 'NanumGothic' not found.\n",
            "WARNING:matplotlib.font_manager:findfont: Font family 'NanumGothic' not found.\n",
            "WARNING:matplotlib.font_manager:findfont: Font family 'NanumGothic' not found.\n",
            "WARNING:matplotlib.font_manager:findfont: Font family 'NanumGothic' not found.\n",
            "WARNING:matplotlib.font_manager:findfont: Font family 'NanumGothic' not found.\n",
            "WARNING:matplotlib.font_manager:findfont: Font family 'NanumGothic' not found.\n",
            "WARNING:matplotlib.font_manager:findfont: Font family 'NanumGothic' not found.\n",
            "WARNING:matplotlib.font_manager:findfont: Font family 'NanumGothic' not found.\n",
            "WARNING:matplotlib.font_manager:findfont: Font family 'NanumGothic' not found.\n",
            "WARNING:matplotlib.font_manager:findfont: Font family 'NanumGothic' not found.\n",
            "WARNING:matplotlib.font_manager:findfont: Font family 'NanumGothic' not found.\n",
            "WARNING:matplotlib.font_manager:findfont: Font family 'NanumGothic' not found.\n",
            "WARNING:matplotlib.font_manager:findfont: Font family 'NanumGothic' not found.\n",
            "WARNING:matplotlib.font_manager:findfont: Font family 'NanumGothic' not found.\n"
          ]
        },
        {
          "output_type": "display_data",
          "data": {
            "text/plain": [
              "<Figure size 640x480 with 1 Axes>"
            ],
            "image/png": "[encoded data removed]"
          },
          "metadata": {}
        }
      ]
    },
    {
      "cell_type": "code",
      "source": [
        "answer['평균기온']=t[0]\n",
        "answer.to_csv('answer.csv',index=False)"
      ],
      "metadata": {
        "id": "q7tOkgWUqLEq"
      },
      "execution_count": null,
      "outputs": []
    },
    {
      "cell_type": "code",
      "source": [],
      "metadata": {
        "id": "KHpQvk_4qYF7"
      },
      "execution_count": null,
      "outputs": []
    }
  ],
  "metadata": {
    "kernelspec": {
      "display_name": "Python 3",
      "name": "python3"
    },
    "language_info": {
      "codemirror_mode": {
        "name": "ipython",
        "version": 3
      },
      "file_extension": ".py",
      "mimetype": "text/x-python",
      "name": "python",
      "nbconvert_exporter": "python",
      "pygments_lexer": "ipython3",
      "version": "3.9.6"
    },
    "colab": {
      "provenance": [],
      "gpuType": "T4"
    },
    "accelerator": "GPU"
  },
  "nbformat": 4,
  "nbformat_minor": 0
}